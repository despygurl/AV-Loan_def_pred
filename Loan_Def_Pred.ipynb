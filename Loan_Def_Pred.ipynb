{
  "cells": [
    {
      "cell_type": "markdown",
      "metadata": {
        "id": "view-in-github",
        "colab_type": "text"
      },
      "source": [
        "<a href=\"https://colab.research.google.com/github/despygurl/AV-Loan_def_pred/blob/master/Loan_Def_Pred.ipynb\" target=\"_parent\"><img src=\"https://colab.research.google.com/assets/colab-badge.svg\" alt=\"Open In Colab\"/></a>"
      ]
    },
    {
      "cell_type": "markdown",
      "id": "edaaa58c-defe-4d8b-8f8b-37fc51acb4aa",
      "metadata": {
        "id": "edaaa58c-defe-4d8b-8f8b-37fc51acb4aa"
      },
      "source": [
        "# Import Dependency"
      ]
    },
    {
      "cell_type": "code",
      "source": [
        "from google.colab import drive\n",
        "drive.mount('/content/drive')"
      ],
      "metadata": {
        "colab": {
          "base_uri": "https://localhost:8080/"
        },
        "id": "vW0oSLsQyIWE",
        "outputId": "b40e45b1-b0d2-49ea-d399-349d3f9dd755"
      },
      "id": "vW0oSLsQyIWE",
      "execution_count": 1,
      "outputs": [
        {
          "output_type": "stream",
          "name": "stdout",
          "text": [
            "Mounted at /content/drive\n"
          ]
        }
      ]
    },
    {
      "cell_type": "code",
      "source": [
        "!pip install dabl"
      ],
      "metadata": {
        "colab": {
          "base_uri": "https://localhost:8080/"
        },
        "id": "ady9dFqCyEsA",
        "outputId": "be73ed2a-72bb-45cc-901a-72d80e63f9ea"
      },
      "id": "ady9dFqCyEsA",
      "execution_count": 2,
      "outputs": [
        {
          "output_type": "stream",
          "name": "stdout",
          "text": [
            "Looking in indexes: https://pypi.org/simple, https://us-python.pkg.dev/colab-wheels/public/simple/\n",
            "Collecting dabl\n",
            "  Downloading dabl-0.2.2-py3-none-any.whl (558 kB)\n",
            "\u001b[K     |████████████████████████████████| 558 kB 5.2 MB/s \n",
            "\u001b[?25hRequirement already satisfied: scikit-learn>=0.24.0 in /usr/local/lib/python3.7/dist-packages (from dabl) (1.0.2)\n",
            "Requirement already satisfied: scipy in /usr/local/lib/python3.7/dist-packages (from dabl) (1.7.3)\n",
            "Requirement already satisfied: numpy in /usr/local/lib/python3.7/dist-packages (from dabl) (1.21.6)\n",
            "Requirement already satisfied: seaborn in /usr/local/lib/python3.7/dist-packages (from dabl) (0.11.2)\n",
            "Requirement already satisfied: pandas in /usr/local/lib/python3.7/dist-packages (from dabl) (1.3.5)\n",
            "Requirement already satisfied: matplotlib in /usr/local/lib/python3.7/dist-packages (from dabl) (3.2.2)\n",
            "Requirement already satisfied: threadpoolctl>=2.0.0 in /usr/local/lib/python3.7/dist-packages (from scikit-learn>=0.24.0->dabl) (3.1.0)\n",
            "Requirement already satisfied: joblib>=0.11 in /usr/local/lib/python3.7/dist-packages (from scikit-learn>=0.24.0->dabl) (1.1.0)\n",
            "Requirement already satisfied: python-dateutil>=2.1 in /usr/local/lib/python3.7/dist-packages (from matplotlib->dabl) (2.8.2)\n",
            "Requirement already satisfied: kiwisolver>=1.0.1 in /usr/local/lib/python3.7/dist-packages (from matplotlib->dabl) (1.4.4)\n",
            "Requirement already satisfied: pyparsing!=2.0.4,!=2.1.2,!=2.1.6,>=2.0.1 in /usr/local/lib/python3.7/dist-packages (from matplotlib->dabl) (3.0.9)\n",
            "Requirement already satisfied: cycler>=0.10 in /usr/local/lib/python3.7/dist-packages (from matplotlib->dabl) (0.11.0)\n",
            "Requirement already satisfied: typing-extensions in /usr/local/lib/python3.7/dist-packages (from kiwisolver>=1.0.1->matplotlib->dabl) (4.1.1)\n",
            "Requirement already satisfied: six>=1.5 in /usr/local/lib/python3.7/dist-packages (from python-dateutil>=2.1->matplotlib->dabl) (1.15.0)\n",
            "Requirement already satisfied: pytz>=2017.3 in /usr/local/lib/python3.7/dist-packages (from pandas->dabl) (2022.1)\n",
            "Installing collected packages: dabl\n",
            "Successfully installed dabl-0.2.2\n"
          ]
        }
      ]
    },
    {
      "cell_type": "code",
      "execution_count": 3,
      "id": "aa26f585-290e-4ad9-a1e0-8e6a23dfb145",
      "metadata": {
        "id": "aa26f585-290e-4ad9-a1e0-8e6a23dfb145",
        "colab": {
          "base_uri": "https://localhost:8080/"
        },
        "outputId": "c3644c91-49eb-4883-ac49-8cd05ed6adac"
      },
      "outputs": [
        {
          "output_type": "stream",
          "name": "stderr",
          "text": [
            "/usr/local/lib/python3.7/dist-packages/sklearn/experimental/enable_hist_gradient_boosting.py:17: UserWarning: Since version 1.0, it is not needed to import enable_hist_gradient_boosting anymore. HistGradientBoostingClassifier and HistGradientBoostingRegressor are now stable and can be normally imported from sklearn.ensemble.\n",
            "  \"Since version 1.0, \"\n"
          ]
        }
      ],
      "source": [
        "import pandas as pd\n",
        "import numpy as np\n",
        "import matplotlib.pyplot as plt\n",
        "import seaborn as sns\n",
        "import pickle\n",
        "import dabl\n",
        "from sklearn.model_selection import train_test_split\n",
        "from sklearn.preprocessing import LabelEncoder\n",
        "from sklearn.preprocessing import StandardScaler\n",
        "from sklearn import svm\n",
        "from sklearn.neighbors import KNeighborsClassifier\n",
        "from sklearn.neural_network import MLPClassifier\n",
        "from sklearn.tree import DecisionTreeClassifier\n",
        "from sklearn.metrics import f1_score as f1\n",
        "from sklearn.metrics import accuracy_score as acc"
      ]
    },
    {
      "cell_type": "markdown",
      "id": "e3f42ffc-1538-4169-9c5a-a7e0bba1c5bf",
      "metadata": {
        "id": "e3f42ffc-1538-4169-9c5a-a7e0bba1c5bf"
      },
      "source": [
        "# Data Collection"
      ]
    },
    {
      "cell_type": "code",
      "execution_count": 4,
      "id": "20688c8d-c112-4b8f-9c77-811d73b6b415",
      "metadata": {
        "id": "20688c8d-c112-4b8f-9c77-811d73b6b415"
      },
      "outputs": [],
      "source": [
        "# Load Data\n",
        "df_train = pd.read_csv('/content/drive/MyDrive/3_BELAJAR/ONLINE COURSE/AnalyticsVidhya/Data Hackathon/AnalyticsVidhya - Loan Default Prediction/train_LZV4RXX.csv')\n",
        "df_test = pd.read_csv('/content/drive/MyDrive/3_BELAJAR/ONLINE COURSE/AnalyticsVidhya/Data Hackathon/AnalyticsVidhya - Loan Default Prediction/test_4zJg83n.csv')"
      ]
    },
    {
      "cell_type": "markdown",
      "id": "BCg_I19--7Ua",
      "metadata": {
        "id": "BCg_I19--7Ua"
      },
      "source": [
        "## Checking Data"
      ]
    },
    {
      "cell_type": "code",
      "execution_count": 5,
      "id": "19402cc6-1556-470a-9561-53a276ea9e33",
      "metadata": {
        "colab": {
          "base_uri": "https://localhost:8080/",
          "height": 143
        },
        "id": "19402cc6-1556-470a-9561-53a276ea9e33",
        "outputId": "1b1b736a-d630-4f2c-90fd-bc760a4261fb"
      },
      "outputs": [
        {
          "output_type": "execute_result",
          "data": {
            "text/plain": [
              "   loan_id  age  education proof_submitted  loan_amount  asset_cost  \\\n",
              "0        1   27        1.0          Aadhar       504264      820920   \n",
              "1        2   48        1.0          Aadhar       728556      831444   \n",
              "2        3   30        2.0         VoterID       642936      826092   \n",
              "\n",
              "   no_of_loans  no_of_curr_loans  last_delinq_none  loan_default  \n",
              "0            2                 2                 0             0  \n",
              "1            6                 2                 0             0  \n",
              "2            0                 0                 0             1  "
            ],
            "text/html": [
              "\n",
              "  <div id=\"df-db632146-e09a-492a-b46e-82dd38fc2de2\">\n",
              "    <div class=\"colab-df-container\">\n",
              "      <div>\n",
              "<style scoped>\n",
              "    .dataframe tbody tr th:only-of-type {\n",
              "        vertical-align: middle;\n",
              "    }\n",
              "\n",
              "    .dataframe tbody tr th {\n",
              "        vertical-align: top;\n",
              "    }\n",
              "\n",
              "    .dataframe thead th {\n",
              "        text-align: right;\n",
              "    }\n",
              "</style>\n",
              "<table border=\"1\" class=\"dataframe\">\n",
              "  <thead>\n",
              "    <tr style=\"text-align: right;\">\n",
              "      <th></th>\n",
              "      <th>loan_id</th>\n",
              "      <th>age</th>\n",
              "      <th>education</th>\n",
              "      <th>proof_submitted</th>\n",
              "      <th>loan_amount</th>\n",
              "      <th>asset_cost</th>\n",
              "      <th>no_of_loans</th>\n",
              "      <th>no_of_curr_loans</th>\n",
              "      <th>last_delinq_none</th>\n",
              "      <th>loan_default</th>\n",
              "    </tr>\n",
              "  </thead>\n",
              "  <tbody>\n",
              "    <tr>\n",
              "      <th>0</th>\n",
              "      <td>1</td>\n",
              "      <td>27</td>\n",
              "      <td>1.0</td>\n",
              "      <td>Aadhar</td>\n",
              "      <td>504264</td>\n",
              "      <td>820920</td>\n",
              "      <td>2</td>\n",
              "      <td>2</td>\n",
              "      <td>0</td>\n",
              "      <td>0</td>\n",
              "    </tr>\n",
              "    <tr>\n",
              "      <th>1</th>\n",
              "      <td>2</td>\n",
              "      <td>48</td>\n",
              "      <td>1.0</td>\n",
              "      <td>Aadhar</td>\n",
              "      <td>728556</td>\n",
              "      <td>831444</td>\n",
              "      <td>6</td>\n",
              "      <td>2</td>\n",
              "      <td>0</td>\n",
              "      <td>0</td>\n",
              "    </tr>\n",
              "    <tr>\n",
              "      <th>2</th>\n",
              "      <td>3</td>\n",
              "      <td>30</td>\n",
              "      <td>2.0</td>\n",
              "      <td>VoterID</td>\n",
              "      <td>642936</td>\n",
              "      <td>826092</td>\n",
              "      <td>0</td>\n",
              "      <td>0</td>\n",
              "      <td>0</td>\n",
              "      <td>1</td>\n",
              "    </tr>\n",
              "  </tbody>\n",
              "</table>\n",
              "</div>\n",
              "      <button class=\"colab-df-convert\" onclick=\"convertToInteractive('df-db632146-e09a-492a-b46e-82dd38fc2de2')\"\n",
              "              title=\"Convert this dataframe to an interactive table.\"\n",
              "              style=\"display:none;\">\n",
              "        \n",
              "  <svg xmlns=\"http://www.w3.org/2000/svg\" height=\"24px\"viewBox=\"0 0 24 24\"\n",
              "       width=\"24px\">\n",
              "    <path d=\"M0 0h24v24H0V0z\" fill=\"none\"/>\n",
              "    <path d=\"M18.56 5.44l.94 2.06.94-2.06 2.06-.94-2.06-.94-.94-2.06-.94 2.06-2.06.94zm-11 1L8.5 8.5l.94-2.06 2.06-.94-2.06-.94L8.5 2.5l-.94 2.06-2.06.94zm10 10l.94 2.06.94-2.06 2.06-.94-2.06-.94-.94-2.06-.94 2.06-2.06.94z\"/><path d=\"M17.41 7.96l-1.37-1.37c-.4-.4-.92-.59-1.43-.59-.52 0-1.04.2-1.43.59L10.3 9.45l-7.72 7.72c-.78.78-.78 2.05 0 2.83L4 21.41c.39.39.9.59 1.41.59.51 0 1.02-.2 1.41-.59l7.78-7.78 2.81-2.81c.8-.78.8-2.07 0-2.86zM5.41 20L4 18.59l7.72-7.72 1.47 1.35L5.41 20z\"/>\n",
              "  </svg>\n",
              "      </button>\n",
              "      \n",
              "  <style>\n",
              "    .colab-df-container {\n",
              "      display:flex;\n",
              "      flex-wrap:wrap;\n",
              "      gap: 12px;\n",
              "    }\n",
              "\n",
              "    .colab-df-convert {\n",
              "      background-color: #E8F0FE;\n",
              "      border: none;\n",
              "      border-radius: 50%;\n",
              "      cursor: pointer;\n",
              "      display: none;\n",
              "      fill: #1967D2;\n",
              "      height: 32px;\n",
              "      padding: 0 0 0 0;\n",
              "      width: 32px;\n",
              "    }\n",
              "\n",
              "    .colab-df-convert:hover {\n",
              "      background-color: #E2EBFA;\n",
              "      box-shadow: 0px 1px 2px rgba(60, 64, 67, 0.3), 0px 1px 3px 1px rgba(60, 64, 67, 0.15);\n",
              "      fill: #174EA6;\n",
              "    }\n",
              "\n",
              "    [theme=dark] .colab-df-convert {\n",
              "      background-color: #3B4455;\n",
              "      fill: #D2E3FC;\n",
              "    }\n",
              "\n",
              "    [theme=dark] .colab-df-convert:hover {\n",
              "      background-color: #434B5C;\n",
              "      box-shadow: 0px 1px 3px 1px rgba(0, 0, 0, 0.15);\n",
              "      filter: drop-shadow(0px 1px 2px rgba(0, 0, 0, 0.3));\n",
              "      fill: #FFFFFF;\n",
              "    }\n",
              "  </style>\n",
              "\n",
              "      <script>\n",
              "        const buttonEl =\n",
              "          document.querySelector('#df-db632146-e09a-492a-b46e-82dd38fc2de2 button.colab-df-convert');\n",
              "        buttonEl.style.display =\n",
              "          google.colab.kernel.accessAllowed ? 'block' : 'none';\n",
              "\n",
              "        async function convertToInteractive(key) {\n",
              "          const element = document.querySelector('#df-db632146-e09a-492a-b46e-82dd38fc2de2');\n",
              "          const dataTable =\n",
              "            await google.colab.kernel.invokeFunction('convertToInteractive',\n",
              "                                                     [key], {});\n",
              "          if (!dataTable) return;\n",
              "\n",
              "          const docLinkHtml = 'Like what you see? Visit the ' +\n",
              "            '<a target=\"_blank\" href=https://colab.research.google.com/notebooks/data_table.ipynb>data table notebook</a>'\n",
              "            + ' to learn more about interactive tables.';\n",
              "          element.innerHTML = '';\n",
              "          dataTable['output_type'] = 'display_data';\n",
              "          await google.colab.output.renderOutput(dataTable, element);\n",
              "          const docLink = document.createElement('div');\n",
              "          docLink.innerHTML = docLinkHtml;\n",
              "          element.appendChild(docLink);\n",
              "        }\n",
              "      </script>\n",
              "    </div>\n",
              "  </div>\n",
              "  "
            ]
          },
          "metadata": {},
          "execution_count": 5
        }
      ],
      "source": [
        "# Data train\n",
        "df_train.head(3)"
      ]
    },
    {
      "cell_type": "code",
      "execution_count": 6,
      "id": "def0ee80-e173-4459-8c01-2ada8f9423e3",
      "metadata": {
        "colab": {
          "base_uri": "https://localhost:8080/",
          "height": 143
        },
        "id": "def0ee80-e173-4459-8c01-2ada8f9423e3",
        "outputId": "bc30a0f9-1a51-43db-a9d0-e3ccc85da0be"
      },
      "outputs": [
        {
          "output_type": "execute_result",
          "data": {
            "text/plain": [
              "   loan_id  age  education proof_submitted  loan_amount  asset_cost  \\\n",
              "0     7001   29        1.0          Aadhar       636936      768240   \n",
              "1     7002   28        1.0          Aadhar       548988      693060   \n",
              "2     7003   28        1.0          Aadhar       651756      936600   \n",
              "\n",
              "   no_of_loans  no_of_curr_loans  last_delinq_none  \n",
              "0            2                 2                 0  \n",
              "1            3                 3                 0  \n",
              "2            0                 0                 0  "
            ],
            "text/html": [
              "\n",
              "  <div id=\"df-b5fbe53d-52f0-414b-a3a5-77796d9cf138\">\n",
              "    <div class=\"colab-df-container\">\n",
              "      <div>\n",
              "<style scoped>\n",
              "    .dataframe tbody tr th:only-of-type {\n",
              "        vertical-align: middle;\n",
              "    }\n",
              "\n",
              "    .dataframe tbody tr th {\n",
              "        vertical-align: top;\n",
              "    }\n",
              "\n",
              "    .dataframe thead th {\n",
              "        text-align: right;\n",
              "    }\n",
              "</style>\n",
              "<table border=\"1\" class=\"dataframe\">\n",
              "  <thead>\n",
              "    <tr style=\"text-align: right;\">\n",
              "      <th></th>\n",
              "      <th>loan_id</th>\n",
              "      <th>age</th>\n",
              "      <th>education</th>\n",
              "      <th>proof_submitted</th>\n",
              "      <th>loan_amount</th>\n",
              "      <th>asset_cost</th>\n",
              "      <th>no_of_loans</th>\n",
              "      <th>no_of_curr_loans</th>\n",
              "      <th>last_delinq_none</th>\n",
              "    </tr>\n",
              "  </thead>\n",
              "  <tbody>\n",
              "    <tr>\n",
              "      <th>0</th>\n",
              "      <td>7001</td>\n",
              "      <td>29</td>\n",
              "      <td>1.0</td>\n",
              "      <td>Aadhar</td>\n",
              "      <td>636936</td>\n",
              "      <td>768240</td>\n",
              "      <td>2</td>\n",
              "      <td>2</td>\n",
              "      <td>0</td>\n",
              "    </tr>\n",
              "    <tr>\n",
              "      <th>1</th>\n",
              "      <td>7002</td>\n",
              "      <td>28</td>\n",
              "      <td>1.0</td>\n",
              "      <td>Aadhar</td>\n",
              "      <td>548988</td>\n",
              "      <td>693060</td>\n",
              "      <td>3</td>\n",
              "      <td>3</td>\n",
              "      <td>0</td>\n",
              "    </tr>\n",
              "    <tr>\n",
              "      <th>2</th>\n",
              "      <td>7003</td>\n",
              "      <td>28</td>\n",
              "      <td>1.0</td>\n",
              "      <td>Aadhar</td>\n",
              "      <td>651756</td>\n",
              "      <td>936600</td>\n",
              "      <td>0</td>\n",
              "      <td>0</td>\n",
              "      <td>0</td>\n",
              "    </tr>\n",
              "  </tbody>\n",
              "</table>\n",
              "</div>\n",
              "      <button class=\"colab-df-convert\" onclick=\"convertToInteractive('df-b5fbe53d-52f0-414b-a3a5-77796d9cf138')\"\n",
              "              title=\"Convert this dataframe to an interactive table.\"\n",
              "              style=\"display:none;\">\n",
              "        \n",
              "  <svg xmlns=\"http://www.w3.org/2000/svg\" height=\"24px\"viewBox=\"0 0 24 24\"\n",
              "       width=\"24px\">\n",
              "    <path d=\"M0 0h24v24H0V0z\" fill=\"none\"/>\n",
              "    <path d=\"M18.56 5.44l.94 2.06.94-2.06 2.06-.94-2.06-.94-.94-2.06-.94 2.06-2.06.94zm-11 1L8.5 8.5l.94-2.06 2.06-.94-2.06-.94L8.5 2.5l-.94 2.06-2.06.94zm10 10l.94 2.06.94-2.06 2.06-.94-2.06-.94-.94-2.06-.94 2.06-2.06.94z\"/><path d=\"M17.41 7.96l-1.37-1.37c-.4-.4-.92-.59-1.43-.59-.52 0-1.04.2-1.43.59L10.3 9.45l-7.72 7.72c-.78.78-.78 2.05 0 2.83L4 21.41c.39.39.9.59 1.41.59.51 0 1.02-.2 1.41-.59l7.78-7.78 2.81-2.81c.8-.78.8-2.07 0-2.86zM5.41 20L4 18.59l7.72-7.72 1.47 1.35L5.41 20z\"/>\n",
              "  </svg>\n",
              "      </button>\n",
              "      \n",
              "  <style>\n",
              "    .colab-df-container {\n",
              "      display:flex;\n",
              "      flex-wrap:wrap;\n",
              "      gap: 12px;\n",
              "    }\n",
              "\n",
              "    .colab-df-convert {\n",
              "      background-color: #E8F0FE;\n",
              "      border: none;\n",
              "      border-radius: 50%;\n",
              "      cursor: pointer;\n",
              "      display: none;\n",
              "      fill: #1967D2;\n",
              "      height: 32px;\n",
              "      padding: 0 0 0 0;\n",
              "      width: 32px;\n",
              "    }\n",
              "\n",
              "    .colab-df-convert:hover {\n",
              "      background-color: #E2EBFA;\n",
              "      box-shadow: 0px 1px 2px rgba(60, 64, 67, 0.3), 0px 1px 3px 1px rgba(60, 64, 67, 0.15);\n",
              "      fill: #174EA6;\n",
              "    }\n",
              "\n",
              "    [theme=dark] .colab-df-convert {\n",
              "      background-color: #3B4455;\n",
              "      fill: #D2E3FC;\n",
              "    }\n",
              "\n",
              "    [theme=dark] .colab-df-convert:hover {\n",
              "      background-color: #434B5C;\n",
              "      box-shadow: 0px 1px 3px 1px rgba(0, 0, 0, 0.15);\n",
              "      filter: drop-shadow(0px 1px 2px rgba(0, 0, 0, 0.3));\n",
              "      fill: #FFFFFF;\n",
              "    }\n",
              "  </style>\n",
              "\n",
              "      <script>\n",
              "        const buttonEl =\n",
              "          document.querySelector('#df-b5fbe53d-52f0-414b-a3a5-77796d9cf138 button.colab-df-convert');\n",
              "        buttonEl.style.display =\n",
              "          google.colab.kernel.accessAllowed ? 'block' : 'none';\n",
              "\n",
              "        async function convertToInteractive(key) {\n",
              "          const element = document.querySelector('#df-b5fbe53d-52f0-414b-a3a5-77796d9cf138');\n",
              "          const dataTable =\n",
              "            await google.colab.kernel.invokeFunction('convertToInteractive',\n",
              "                                                     [key], {});\n",
              "          if (!dataTable) return;\n",
              "\n",
              "          const docLinkHtml = 'Like what you see? Visit the ' +\n",
              "            '<a target=\"_blank\" href=https://colab.research.google.com/notebooks/data_table.ipynb>data table notebook</a>'\n",
              "            + ' to learn more about interactive tables.';\n",
              "          element.innerHTML = '';\n",
              "          dataTable['output_type'] = 'display_data';\n",
              "          await google.colab.output.renderOutput(dataTable, element);\n",
              "          const docLink = document.createElement('div');\n",
              "          docLink.innerHTML = docLinkHtml;\n",
              "          element.appendChild(docLink);\n",
              "        }\n",
              "      </script>\n",
              "    </div>\n",
              "  </div>\n",
              "  "
            ]
          },
          "metadata": {},
          "execution_count": 6
        }
      ],
      "source": [
        "# Data test\n",
        "df_test.head(3)"
      ]
    },
    {
      "cell_type": "markdown",
      "id": "575f5013-9a0c-4114-a6b0-4c78db3212ee",
      "metadata": {
        "id": "575f5013-9a0c-4114-a6b0-4c78db3212ee"
      },
      "source": [
        "# Data Exploration"
      ]
    },
    {
      "cell_type": "code",
      "execution_count": 7,
      "id": "8436b5e7-a666-4c8c-ab11-6edea2d48653",
      "metadata": {
        "colab": {
          "base_uri": "https://localhost:8080/"
        },
        "id": "8436b5e7-a666-4c8c-ab11-6edea2d48653",
        "outputId": "601fafcf-ea24-4ca6-e727-11c8479d18e4",
        "tags": []
      },
      "outputs": [
        {
          "output_type": "stream",
          "name": "stdout",
          "text": [
            "<class 'pandas.core.frame.DataFrame'>\n",
            "RangeIndex: 7000 entries, 0 to 6999\n",
            "Data columns (total 10 columns):\n",
            " #   Column            Non-Null Count  Dtype  \n",
            "---  ------            --------------  -----  \n",
            " 0   loan_id           7000 non-null   int64  \n",
            " 1   age               7000 non-null   int64  \n",
            " 2   education         6755 non-null   float64\n",
            " 3   proof_submitted   7000 non-null   object \n",
            " 4   loan_amount       7000 non-null   int64  \n",
            " 5   asset_cost        7000 non-null   int64  \n",
            " 6   no_of_loans       7000 non-null   int64  \n",
            " 7   no_of_curr_loans  7000 non-null   int64  \n",
            " 8   last_delinq_none  7000 non-null   int64  \n",
            " 9   loan_default      7000 non-null   int64  \n",
            "dtypes: float64(1), int64(8), object(1)\n",
            "memory usage: 547.0+ KB\n"
          ]
        }
      ],
      "source": [
        "# Load data train info\n",
        "df_train.info()"
      ]
    },
    {
      "cell_type": "code",
      "execution_count": 8,
      "id": "Gnj5KgQu7Ey6",
      "metadata": {
        "colab": {
          "base_uri": "https://localhost:8080/"
        },
        "id": "Gnj5KgQu7Ey6",
        "outputId": "12ff54ac-fce0-4df0-b1e7-b891dc8f891a"
      },
      "outputs": [
        {
          "output_type": "stream",
          "name": "stdout",
          "text": [
            "<class 'pandas.core.frame.DataFrame'>\n",
            "RangeIndex: 3000 entries, 0 to 2999\n",
            "Data columns (total 9 columns):\n",
            " #   Column            Non-Null Count  Dtype  \n",
            "---  ------            --------------  -----  \n",
            " 0   loan_id           3000 non-null   int64  \n",
            " 1   age               3000 non-null   int64  \n",
            " 2   education         2908 non-null   float64\n",
            " 3   proof_submitted   3000 non-null   object \n",
            " 4   loan_amount       3000 non-null   int64  \n",
            " 5   asset_cost        3000 non-null   int64  \n",
            " 6   no_of_loans       3000 non-null   int64  \n",
            " 7   no_of_curr_loans  3000 non-null   int64  \n",
            " 8   last_delinq_none  3000 non-null   int64  \n",
            "dtypes: float64(1), int64(7), object(1)\n",
            "memory usage: 211.1+ KB\n"
          ]
        }
      ],
      "source": [
        "# Load data test info\n",
        "df_test.info()"
      ]
    },
    {
      "cell_type": "code",
      "execution_count": 9,
      "id": "WzYQRTtw7HPY",
      "metadata": {
        "colab": {
          "base_uri": "https://localhost:8080/"
        },
        "id": "WzYQRTtw7HPY",
        "outputId": "7385bab6-addb-4e1b-ab43-9f32fd4fa45a"
      },
      "outputs": [
        {
          "output_type": "execute_result",
          "data": {
            "text/plain": [
              "loan_id               0\n",
              "age                   0\n",
              "education           245\n",
              "proof_submitted       0\n",
              "loan_amount           0\n",
              "asset_cost            0\n",
              "no_of_loans           0\n",
              "no_of_curr_loans      0\n",
              "last_delinq_none      0\n",
              "loan_default          0\n",
              "dtype: int64"
            ]
          },
          "metadata": {},
          "execution_count": 9
        }
      ],
      "source": [
        "# Checking missing values on data train\n",
        "df_train.isna().sum()"
      ]
    },
    {
      "cell_type": "code",
      "execution_count": 10,
      "id": "a9hF4m_17SzB",
      "metadata": {
        "colab": {
          "base_uri": "https://localhost:8080/"
        },
        "id": "a9hF4m_17SzB",
        "outputId": "e89a0261-5c4c-4d24-fe63-349fda9c4af4"
      },
      "outputs": [
        {
          "output_type": "execute_result",
          "data": {
            "text/plain": [
              "loan_id              0\n",
              "age                  0\n",
              "education           92\n",
              "proof_submitted      0\n",
              "loan_amount          0\n",
              "asset_cost           0\n",
              "no_of_loans          0\n",
              "no_of_curr_loans     0\n",
              "last_delinq_none     0\n",
              "dtype: int64"
            ]
          },
          "metadata": {},
          "execution_count": 10
        }
      ],
      "source": [
        "# Checking missing values on data test\n",
        "df_test.isna().sum()"
      ]
    },
    {
      "cell_type": "markdown",
      "id": "ebd521ad-46ae-4035-989b-fa89564cdec9",
      "metadata": {
        "id": "ebd521ad-46ae-4035-989b-fa89564cdec9"
      },
      "source": [
        "# Data Preparation"
      ]
    },
    {
      "cell_type": "code",
      "execution_count": 11,
      "id": "459f6bd1-7b82-4418-bceb-8d97926ebc10",
      "metadata": {
        "id": "459f6bd1-7b82-4418-bceb-8d97926ebc10",
        "tags": []
      },
      "outputs": [],
      "source": [
        "# Data imputation for there are missing values in both train and test data ('education')\n",
        "df_train['education'] = df_train['education'].fillna(df_train['education'].mode().iloc[0])\n",
        "df_test['education'] = df_test['education'].fillna(df_test['education'].mode().iloc[0])"
      ]
    },
    {
      "cell_type": "code",
      "execution_count": 12,
      "id": "96bfa700-c359-4e59-a67e-5252da93b575",
      "metadata": {
        "id": "96bfa700-c359-4e59-a67e-5252da93b575"
      },
      "outputs": [],
      "source": [
        "# Converting values in 'education' into category type\n",
        "df_train['education'] = df_train['education'].astype('category')\n",
        "df_test['education'] = df_test['education'].astype('category')"
      ]
    },
    {
      "cell_type": "code",
      "execution_count": 13,
      "id": "794e9722-935e-4c7c-8a95-f1d01c66dfa9",
      "metadata": {
        "id": "794e9722-935e-4c7c-8a95-f1d01c66dfa9"
      },
      "outputs": [],
      "source": [
        "# Encode non-numericals data into numericals\n",
        "le = LabelEncoder()\n",
        "\n",
        "df_train['proof_submitted'] = le.fit_transform(df_train['proof_submitted'])\n",
        "df_test['proof_submitted'] = le.fit_transform(df_test['proof_submitted'])"
      ]
    },
    {
      "cell_type": "markdown",
      "id": "AqpwMlZSACSz",
      "metadata": {
        "id": "AqpwMlZSACSz"
      },
      "source": [
        "## Splitting Data"
      ]
    },
    {
      "cell_type": "code",
      "execution_count": 14,
      "id": "c31ca0c1-61d3-4b7e-9d40-c929091565f9",
      "metadata": {
        "id": "c31ca0c1-61d3-4b7e-9d40-c929091565f9"
      },
      "outputs": [],
      "source": [
        "# Splitting features and target on data train\n",
        "X_train = df_train.iloc[:,:-1]\n",
        "y_train = df_train['loan_default']"
      ]
    },
    {
      "cell_type": "code",
      "execution_count": 15,
      "id": "6cce2a88-80c0-43d1-87d9-62787fc434d9",
      "metadata": {
        "id": "6cce2a88-80c0-43d1-87d9-62787fc434d9"
      },
      "outputs": [],
      "source": [
        "# Define data test\n",
        "X_test = df_test"
      ]
    },
    {
      "cell_type": "code",
      "execution_count": 16,
      "id": "c45ea486-b3a3-4a13-8deb-7f36d2b949bf",
      "metadata": {
        "id": "c45ea486-b3a3-4a13-8deb-7f36d2b949bf"
      },
      "outputs": [],
      "source": [
        "# Scaling data train and test to get better and robust data of train and test data\n",
        "sc = StandardScaler()\n",
        "\n",
        "X_train_sc = sc.fit_transform(X_train)\n",
        "X_test_sc = sc.fit_transform(X_test)"
      ]
    },
    {
      "cell_type": "markdown",
      "id": "77a94a63-929a-4de7-a1d0-0a97b4751bd1",
      "metadata": {
        "id": "77a94a63-929a-4de7-a1d0-0a97b4751bd1"
      },
      "source": [
        "# Modelling"
      ]
    },
    {
      "cell_type": "markdown",
      "id": "G9TGUSSR8V0g",
      "metadata": {
        "id": "G9TGUSSR8V0g"
      },
      "source": [
        "## AutoML with Dabl"
      ]
    },
    {
      "cell_type": "code",
      "execution_count": 17,
      "id": "67216c15-83fa-4e3c-a57c-03e5f0b68142",
      "metadata": {
        "colab": {
          "base_uri": "https://localhost:8080/"
        },
        "id": "67216c15-83fa-4e3c-a57c-03e5f0b68142",
        "outputId": "4c735029-07a3-4fcb-d00e-140b896ecaaf",
        "tags": []
      },
      "outputs": [
        {
          "output_type": "stream",
          "name": "stdout",
          "text": [
            "Running DummyClassifier()\n",
            "accuracy: 0.600 average_precision: 0.400 roc_auc: 0.500 recall_macro: 0.500 f1_macro: 0.375\n",
            "=== new best DummyClassifier() (using recall_macro):\n",
            "accuracy: 0.600 average_precision: 0.400 roc_auc: 0.500 recall_macro: 0.500 f1_macro: 0.375\n",
            "\n",
            "Running GaussianNB()\n",
            "accuracy: 0.593 average_precision: 0.460 roc_auc: 0.578 recall_macro: 0.533 f1_macro: 0.513\n",
            "=== new best GaussianNB() (using recall_macro):\n",
            "accuracy: 0.593 average_precision: 0.460 roc_auc: 0.578 recall_macro: 0.533 f1_macro: 0.513\n",
            "\n",
            "Running MultinomialNB()\n",
            "accuracy: 0.600 average_precision: 0.446 roc_auc: 0.551 recall_macro: 0.500 f1_macro: 0.375\n",
            "Running DecisionTreeClassifier(class_weight='balanced', max_depth=1)\n",
            "accuracy: 0.529 average_precision: 0.428 roc_auc: 0.553 recall_macro: 0.553 f1_macro: 0.527\n",
            "=== new best DecisionTreeClassifier(class_weight='balanced', max_depth=1) (using recall_macro):\n",
            "accuracy: 0.529 average_precision: 0.428 roc_auc: 0.553 recall_macro: 0.553 f1_macro: 0.527\n",
            "\n",
            "Running DecisionTreeClassifier(class_weight='balanced', max_depth=5)\n",
            "accuracy: 0.530 average_precision: 0.431 roc_auc: 0.549 recall_macro: 0.544 f1_macro: 0.529\n",
            "Running DecisionTreeClassifier(class_weight='balanced', min_impurity_decrease=0.01)\n",
            "accuracy: 0.600 average_precision: 0.400 roc_auc: 0.500 recall_macro: 0.500 f1_macro: 0.375\n",
            "Running LogisticRegression(C=0.1, class_weight='balanced', max_iter=1000)\n",
            "accuracy: 0.570 average_precision: 0.474 roc_auc: 0.595 recall_macro: 0.577 f1_macro: 0.567\n",
            "=== new best LogisticRegression(C=0.1, class_weight='balanced', max_iter=1000) (using recall_macro):\n",
            "accuracy: 0.570 average_precision: 0.474 roc_auc: 0.595 recall_macro: 0.577 f1_macro: 0.567\n",
            "\n",
            "Running LogisticRegression(class_weight='balanced', max_iter=1000)\n",
            "accuracy: 0.570 average_precision: 0.474 roc_auc: 0.595 recall_macro: 0.577 f1_macro: 0.567\n",
            "=== new best LogisticRegression(class_weight='balanced', max_iter=1000) (using recall_macro):\n",
            "accuracy: 0.570 average_precision: 0.474 roc_auc: 0.595 recall_macro: 0.577 f1_macro: 0.567\n",
            "\n",
            "\n",
            "Best model:\n",
            "LogisticRegression(class_weight='balanced', max_iter=1000)\n",
            "Best Scores:\n",
            "accuracy: 0.570 average_precision: 0.474 roc_auc: 0.595 recall_macro: 0.577 f1_macro: 0.567\n"
          ]
        },
        {
          "output_type": "execute_result",
          "data": {
            "text/plain": [
              "SimpleClassifier(random_state=0)"
            ]
          },
          "metadata": {},
          "execution_count": 17
        }
      ],
      "source": [
        "fc = dabl.SimpleClassifier(random_state=0)\n",
        "fc.fit(X_train_sc, y_train)"
      ]
    },
    {
      "cell_type": "code",
      "execution_count": 18,
      "id": "G76SDKd6w85P",
      "metadata": {
        "id": "G76SDKd6w85P"
      },
      "outputs": [],
      "source": [
        "# Applying model based on Dabl recommendation: LogisticRegression\n",
        "from sklearn.linear_model import LogisticRegression\n",
        "clf = LogisticRegression(random_state=2,class_weight='balanced', max_iter=1000).fit(X_train_sc, y_train)"
      ]
    },
    {
      "cell_type": "markdown",
      "id": "ey953Zvz8bOp",
      "metadata": {
        "id": "ey953Zvz8bOp"
      },
      "source": [
        "## Manually search for best result"
      ]
    },
    {
      "cell_type": "code",
      "execution_count": 19,
      "id": "1d2c9d87-5091-46ca-99d7-c40f9601a653",
      "metadata": {
        "id": "1d2c9d87-5091-46ca-99d7-c40f9601a653"
      },
      "outputs": [],
      "source": [
        "# Build models\n",
        "c_svm = svm.SVC()\n",
        "c_knn = KNeighborsClassifier(n_neighbors=3,algorithm='kd_tree')\n",
        "c_nn = MLPClassifier(hidden_layer_sizes=(5,),activation='logistic',solver='adam',learning_rate='adaptive')\n",
        "c_dt = DecisionTreeClassifier()\n",
        "\n",
        "# Fitting models\n",
        "c_svm = c_svm.fit(X_train_sc, y_train)\n",
        "c_knn = c_knn.fit(X_train_sc, y_train)\n",
        "c_nn = c_nn.fit(X_train_sc, y_train)\n",
        "c_dt = c_dt.fit(X_train_sc, y_train)"
      ]
    },
    {
      "cell_type": "markdown",
      "id": "VZSk4uvd-PGt",
      "metadata": {
        "id": "VZSk4uvd-PGt"
      },
      "source": [
        "# Model Evaluation"
      ]
    },
    {
      "cell_type": "code",
      "execution_count": 20,
      "id": "kRwxYyUA1A6i",
      "metadata": {
        "colab": {
          "base_uri": "https://localhost:8080/"
        },
        "id": "kRwxYyUA1A6i",
        "outputId": "1fb3c26c-1408-470a-fcc7-3ab0ace154c1"
      },
      "outputs": [
        {
          "output_type": "stream",
          "name": "stdout",
          "text": [
            "F1 Score SVM: 0.4522483253644362\n",
            "F1 Score KNN: 0.7471988841500439\n",
            "F1 Score Neural Network: 0.46685487047185464\n",
            "F1 Score Decision Tree: 1.0\n",
            "F1 Score Logistic Regression:0.5710090304908797\n"
          ]
        }
      ],
      "source": [
        "# Checking model evaluation based on required metrics: F1 Score\n",
        "print(f\"F1 Score SVM: {f1(y_train, c_svm.predict(X_train_sc), average='macro')}\")\n",
        "print(f\"F1 Score KNN: {f1(y_train, c_knn.predict(X_train_sc), average='macro')}\")\n",
        "print(f\"F1 Score Neural Network: {f1(y_train, c_nn.predict(X_train_sc), average='macro')}\")\n",
        "print(f\"F1 Score Decision Tree: {f1(y_train, c_dt.predict(X_train_sc), average='macro')}\")\n",
        "print(f\"F1 Score Logistic Regression:{f1(y_train, clf.predict(X_train_sc), average='macro')}\")"
      ]
    },
    {
      "cell_type": "code",
      "execution_count": 21,
      "id": "99866386-ea83-4835-b56d-5c86e7943dd1",
      "metadata": {
        "colab": {
          "base_uri": "https://localhost:8080/"
        },
        "id": "99866386-ea83-4835-b56d-5c86e7943dd1",
        "outputId": "2ef1c79d-81e2-491d-8500-8b0ffa344f5b"
      },
      "outputs": [
        {
          "output_type": "stream",
          "name": "stdout",
          "text": [
            "Accuracy Score SVM: 61.79\n",
            "Accuracy Score KNN: 76.11\n",
            "Accuracy Score Neural Network: 60.43\n",
            "Accuracy Score Decision Tree: 100.0\n",
            "Accuracy Score Logistic Regression:57.36\n"
          ]
        }
      ],
      "source": [
        "# Checking model evaluation based on required metrics: F1 Score\n",
        "print(f\"Accuracy Score SVM: {round(acc(y_train, c_svm.predict(X_train_sc))*100,2)}\")\n",
        "print(f\"Accuracy Score KNN: {round(acc(y_train, c_knn.predict(X_train_sc))*100,2)}\")\n",
        "print(f\"Accuracy Score Neural Network: {round(acc(y_train, c_nn.predict(X_train_sc))*100,2)}\")\n",
        "print(f\"Accuracy Score Decision Tree: {round(acc(y_train, c_dt.predict(X_train_sc))*100,2)}\")\n",
        "print(f\"Accuracy Score Logistic Regression:{round(acc(y_train, clf.predict(X_train_sc))*100,2)}\")"
      ]
    },
    {
      "cell_type": "markdown",
      "id": "RH2qIWil-KtF",
      "metadata": {
        "id": "RH2qIWil-KtF"
      },
      "source": [
        "# Prediction"
      ]
    },
    {
      "cell_type": "code",
      "execution_count": 22,
      "id": "b_I_kS-82Xjg",
      "metadata": {
        "id": "b_I_kS-82Xjg"
      },
      "outputs": [],
      "source": [
        "pred_svm = c_svm.predict(X_test_sc)\n",
        "pred_knn = c_knn.predict(X_test_sc)\n",
        "pred_nn = c_nn.predict(X_test_sc)\n",
        "pred_dt = c_dt.predict(X_test_sc)\n",
        "clf_pred = clf.predict(X_test_sc)"
      ]
    },
    {
      "cell_type": "markdown",
      "id": "BRl4-8Bt-Vud",
      "metadata": {
        "id": "BRl4-8Bt-Vud"
      },
      "source": [
        "# Saving Prediction Result to CSV Files"
      ]
    },
    {
      "cell_type": "code",
      "execution_count": 24,
      "id": "_JDKUyRRxvD5",
      "metadata": {
        "id": "_JDKUyRRxvD5"
      },
      "outputs": [],
      "source": [
        "sub_svm = pd.DataFrame({'loan_id':X_test['loan_id'], 'loan_default':pred_svm})\n",
        "sub_knn = pd.DataFrame({'loan_id':X_test['loan_id'], 'loan_default':pred_knn})\n",
        "sub_nn = pd.DataFrame({'loan_id':X_test['loan_id'], 'loan_default':pred_nn})\n",
        "sub_dt = pd.DataFrame({'loan_id':X_test['loan_id'], 'loan_default':pred_dt})\n",
        "sub_lr = pd.DataFrame({'loan_id':X_test['loan_id'], 'loan_default':clf_pred})\n",
        "\n",
        "sub_svm.to_csv('/content/drive/MyDrive/3_BELAJAR/ONLINE COURSE/AnalyticsVidhya/Data Hackathon/AnalyticsVidhya - Loan Default Prediction/Submission/sub_svm.csv', index=False)\n",
        "sub_knn.to_csv('/content/drive/MyDrive/3_BELAJAR/ONLINE COURSE/AnalyticsVidhya/Data Hackathon/AnalyticsVidhya - Loan Default Prediction/Submission/sub_knn.csv', index=False)\n",
        "sub_nn.to_csv('/content/drive/MyDrive/3_BELAJAR/ONLINE COURSE/AnalyticsVidhya/Data Hackathon/AnalyticsVidhya - Loan Default Prediction/Submission/sub_nn.csv', index=False)\n",
        "sub_dt.to_csv('/content/drive/MyDrive/3_BELAJAR/ONLINE COURSE/AnalyticsVidhya/Data Hackathon/AnalyticsVidhya - Loan Default Prediction/Submission/sub_dt.csv', index=False)\n",
        "sub_lr.to_csv('/content/drive/MyDrive/3_BELAJAR/ONLINE COURSE/AnalyticsVidhya/Data Hackathon/AnalyticsVidhya - Loan Default Prediction/sub_lr.csv', index=False)"
      ]
    }
  ],
  "metadata": {
    "colab": {
      "collapsed_sections": [],
      "name": "Loan Def Pred.ipynb",
      "provenance": [],
      "include_colab_link": true
    },
    "gpuClass": "standard",
    "kernelspec": {
      "display_name": "Python 3",
      "name": "python3"
    },
    "language_info": {
      "name": "python"
    },
    "toc-autonumbering": true
  },
  "nbformat": 4,
  "nbformat_minor": 5
}